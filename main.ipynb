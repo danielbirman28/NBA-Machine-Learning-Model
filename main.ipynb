{
 "cells": [
  {
   "cell_type": "markdown",
   "metadata": {
    "tags": []
   },
   "source": [
    "# Name: Daniel Birman\n",
    "### Date: 08/25/2023"
   ]
  },
  {
   "cell_type": "markdown",
   "metadata": {},
   "source": [
    "<style>\n",
    ".jp-Notebook {\n",
    "    padding: var(--jp-notebook-padding);\n",
    "    margin-left: 160px;\n",
    "    outline: none;\n",
    "    overflow: auto;\n",
    "    background: var(--jp-layout-color0);\n",
    "}\n",
    "</style>"
   ]
  },
  {
   "cell_type": "markdown",
   "metadata": {},
   "source": [
    "# Setup and Data    "
   ]
  },
  {
   "cell_type": "code",
   "execution_count": 1,
   "metadata": {},
   "outputs": [],
   "source": [
    "import pandas as pd\n",
    "import numpy as np\n",
    "import matplotlib.pyplot as plt\n",
    "import seaborn as sb\n",
    "awards = pd.read_csv(\"awards_data.csv\")\n",
    "player_data = pd.read_csv(\"player_stats.csv\")\n",
    "team_data = pd.read_csv(\"team_stats.csv\")\n",
    "rebounding_data = pd.read_csv(\"team_rebounding_data_22.csv\")"
   ]
  },
  {
   "cell_type": "markdown",
   "metadata": {},
   "source": [
    "## Part 1 -- Awards  \n",
    "\n",
    "In this section, I worked with data relating to player awards and statistics. I started with some data manipulation questions and worked towards building a model to predict broad levels of career success.\n"
   ]
  },
  {
   "cell_type": "markdown",
   "metadata": {},
   "source": [
    "### Question 1  \n",
    "\n",
    "**QUESTION:** What is the average number of points per game for players in the 2007-2021 seasons who won All NBA First, Second, and Third teams (**not** the All Defensive Teams), as well as for players who were in the All-Star Game (**not** the rookie all-star game)?\n",
    "\n",
    "\n",
    " "
   ]
  },
  {
   "cell_type": "code",
   "execution_count": 2,
   "metadata": {},
   "outputs": [
    {
     "name": "stdout",
     "output_type": "stream",
     "text": [
      "1st Team: 25.9 points per game\n",
      "2nd Team: 23.1 points per game\n",
      "3rd Team: 20.5 points per game\n",
      "All-Star: 21.6 points per game\n"
     ]
    }
   ],
   "source": [
    "def calculate_team_avg(player_data, awards, team_name):\n",
    "    # Filter player_data for seasons >= 2007\n",
    "    filtered_data = player_data[player_data['season'] >= 2007]\n",
    "\n",
    "    # Merge the filtered player_data with the awards DataFrame\n",
    "    team_data = filtered_data.merge(awards)\n",
    "\n",
    "    # Filter for players in the specified team\n",
    "    team_data = team_data[team_data[team_name] == 1]\n",
    "\n",
    "    # Select only the relevant columns\n",
    "    team_data = team_data[['nbapersonid', 'player', 'season', 'games', 'points']]\n",
    "\n",
    "    # Calculate and add the 'avg' column\n",
    "    team_data['avg'] = team_data['points'] / team_data['games']\n",
    "\n",
    "    # Calculate the mean of 'avg' and round it to 1 decimal place\n",
    "    team_avg_pts = round(team_data['avg'].mean(), 1)\n",
    "\n",
    "    return team_avg_pts\n",
    "\n",
    "first_avg_pts = calculate_team_avg(player_data, awards, 'All NBA First Team')\n",
    "print('1st Team: ' + str(first_avg_pts) + ' points per game')\n",
    "\n",
    "second_avg_pts = calculate_team_avg(player_data, awards, 'All NBA Second Team')\n",
    "print('2nd Team: ' + str(second_avg_pts) + ' points per game')\n",
    "\n",
    "third_avg_pts = calculate_team_avg(player_data, awards, 'All NBA Third Team')\n",
    "print('3rd Team: ' + str(third_avg_pts) + ' points per game')\n",
    "\n",
    "all_star_avg_pts = calculate_team_avg(player_data, awards, 'all_star_game')\n",
    "print('All-Star: ' + str(all_star_avg_pts) + ' points per game')"
   ]
  },
  {
   "cell_type": "markdown",
   "metadata": {},
   "source": [
    "<strong><span style=\"color:red\">ANSWER 1:</span></strong>   \n",
    "\n",
    "1st Team: 25.9 points per game  \n",
    "2nd Team: 23.1 points per game  \n",
    "3rd Team: 20.5 points per game  \n",
    "All-Star: 21.6 points per game  "
   ]
  },
  {
   "cell_type": "markdown",
   "metadata": {},
   "source": [
    "### Question 2  \n",
    "\n",
    "**QUESTION:** Here I have to find the average number of years of experience in the league it takes for players to make their first All NBA Selection (1st, 2nd, or 3rd team)? I limited my sample to players drafted in 2007 or later who did eventually go on to win at least one All NBA selection. For example:\n",
    "\n",
    "- Luka Doncic is in the dataset as 2 years. He was drafted in 2018 and won his first All NBA award in 2019 (which was his second season).  \n",
    "- LeBron James is not in this dataset, as he was drafted prior to 2007.  \n",
    "- Lu Dort is not in this dataset, as he has not received any All NBA honors.  \n",
    "\n"
   ]
  },
  {
   "cell_type": "code",
   "execution_count": 3,
   "metadata": {},
   "outputs": [
    {
     "name": "stdout",
     "output_type": "stream",
     "text": [
      "3.7\n"
     ]
    }
   ],
   "source": [
    "# Filter the data for players drafter in 2007 or later\n",
    "filtered_players = player_data[player_data['draftyear'] >= 2007]\n",
    "\n",
    "# Merge and select relevant columns\n",
    "merged_awards_data = (\n",
    "    filtered_players\n",
    "    .merge(awards)\n",
    "    .sort_values(by='player')\n",
    "    .loc[:, ['nbapersonid', 'player', 'draftyear', 'season', 'All NBA First Team', 'All NBA Second Team', 'All NBA Third Team']]\n",
    ")\n",
    "\n",
    "# Filter rows with any All NBA team selection\n",
    "all_nba_players = merged_awards_data[merged_awards_data[['All NBA First Team', 'All NBA Second Team', 'All NBA Third Team']].any(axis=1)].sort_values(['nbapersonid','season'],  ascending = True)\n",
    "\n",
    "# Group by player, season, and draftyear, select the first team selection, and calculate years of experience\n",
    "first_selections_by_player = (\n",
    "    all_nba_players\n",
    "    .groupby(['nbapersonid', 'season', 'draftyear'])\n",
    "    .agg({'All NBA First Team': 'first', 'All NBA Second Team': 'first', 'All NBA Third Team': 'first'})\n",
    "    .reset_index()\n",
    "    .drop_duplicates(subset='nbapersonid',keep='first')\n",
    ")\n",
    "first_selections_by_player['years_of_experience'] = first_selections_by_player['season'] - first_selections_by_player['draftyear']\n",
    "first_selections_by_player\n",
    "\n",
    "# Calculate the average years of experience\n",
    "average_experience_for_all_nba_players = round(first_selections_by_player['years_of_experience'].mean(), 1)\n",
    "print(average_experience_for_all_nba_players)"
   ]
  },
  {
   "cell_type": "markdown",
   "metadata": {},
   "source": [
    "<strong><span style=\"color:red\">ANSWER 2:</span></strong>  \n",
    "\n",
    "3.7 Years  "
   ]
  },
  {
   "cell_type": "markdown",
   "metadata": {},
   "source": [
    "## Data Cleaning Interlude  \n",
    "\n",
    "I created a dataset with a \"career outcome\" for each player, representing the highest level of success that the player achieved for at least two seasons after his first four seasons in the league.\n",
    "\n",
    "- Elite: A player is \"Elite\" in a season if he won any All NBA award (1st, 2nd, or 3rd team), MVP, or DPOY in that season.    \n",
    "- All-Star: A player is \"All-Star\" in a season if he was selected to be an All-Star that season.   \n",
    "- Starter:  A player is a \"Starter\" in a season if he started in at least 41 games in the season OR if he played at least 2000 minutes in the season.    \n",
    "- Rotation:  A player is a \"Rotation\" player in a season if he played at least 1000 minutes in the season.   \n",
    "- Roster:  A player is a \"Roster\" player in a season if he played at least 1 minute for an NBA team but did not meet any of the above criteria.     \n",
    "- Out of the League: A player is \"Out of the League\" if he is not in the NBA in that season.   \n",
    "\n",
    "I adjusted the determination for Starter/Rotation qualifications for the seasons with fewer than 82 games per team. For example, in the 2011 lockout season with 66 possible games, if a player played 900 minutes, it would be considered as 900 * (82/66) = 1118 minutes for qualification. Similarly, for games started, if a player started 38 games in 2019 or 2020 (each with 72 possible games), it would be considered as 38 * (82/72) = 43 games started. All calculations were rounded to the nearest whole number.\n",
    "\n",
    "I noted that on a season level, a player's outcome is the highest level of success he qualifies for in that season. For example, Shai Gilgeous-Alexander, who was both All-NBA 1st team and an All-Star last year, would be considered \"Elite\" for the 2022 season. However, for his career outcome, if he were to make one more All-Star game but no more All-NBA teams in the rest of his career, he would be classified as \"All-Star.\" This is a hypothetical scenario, as Shai has not yet played enough to have a career outcome.\n",
    "\n",
    "Examples:  \n",
    "\n",
    "- A player who enters the league as a rookie and has season outcomes of Roster (1), Rotation (2), Rotation (3), Roster (4), Roster (5), Out of the League (6+) would be considered \"Out of the League,\" because after his first four seasons, he only has a single Roster year, which does not qualify him for any success outcome.  \n",
    "- A player who enters the league as a rookie and has season outcomes of Roster (1), Rotation (2), Starter (3), Starter (4), Starter (5), Starter (6), All-Star (7), Elite (8), Starter (9) would be considered \"All-Star,\" because he had at least two seasons after his first four at all-star level of production or higher.  \n",
    "- A player who enters the league as a rookie and has season outcomes of Roster (1), Rotation (2), Starter (3), Starter (4), Starter (5), Starter (6), Rotation (7), Rotation (8), Roster (9) would be considered a \"Starter\" because he has two seasons after his first four at a starter level of production. \n"
   ]
  },
  {
   "cell_type": "markdown",
   "metadata": {},
   "source": [
    "### Question 3  \n",
    "\n",
    "**QUESTION:** There are 73 players in the `player_data` dataset who have 2010 listed as their draft year. How many of those players have a **career** outcome in each of the 6 buckets?  "
   ]
  },
  {
   "cell_type": "code",
   "execution_count": 4,
   "metadata": {},
   "outputs": [
    {
     "data": {
      "text/plain": [
       "Out of the League    32\n",
       "Starter              21\n",
       "Roster               13\n",
       "Elite                 7\n",
       "Name: career_success, dtype: int64"
      ]
     },
     "execution_count": 4,
     "metadata": {},
     "output_type": "execute_result"
    }
   ],
   "source": [
    "# Reload or recreate the 'player_data' DataFrame with the original data\n",
    "player_data_copy = player_data.copy()\n",
    "\n",
    "# Filter the dataset to select players with draft year 2010\n",
    "drafts_2010 = player_data_copy[player_data_copy['draftyear'] == 2010].sort_values(['player', 'season'])\n",
    "\n",
    "# Merge with awards dataset\n",
    "drafts_2010 = drafts_2010.merge(awards,how='outer')\n",
    "\n",
    "for index, row in drafts_2010.iterrows():\n",
    "    if (row['All NBA Defensive First Team'] == 1) or \\\n",
    "       (row['All NBA Defensive Second Team'] == 1) or \\\n",
    "       (row['All NBA First Team'] == 1) or \\\n",
    "       (row['All NBA Second Team'] == 1) or \\\n",
    "       (row['All NBA Third Team'] == 1) or \\\n",
    "       (row['Most Valuable Player_rk'] == 1) or \\\n",
    "       (row['Defensive Player Of The Year_rk'] == 1):\n",
    "        drafts_2010.at[index, 'Elite'] = 1.0\n",
    "    if (row['all_star_game'] == 1):\n",
    "        drafts_2010.at[index, 'All-Star'] = 1.0\n",
    "        \n",
    "    if (row['season'] == 2011) and ((row['games'] * (82/66)) >= 41 or (row['mins'] * (82/66)) >= 2000):\n",
    "        drafts_2010.at[index, 'Starter'] = 1.0\n",
    "    elif ((row['season'] == 2019 or row['season'] == 2020) and \n",
    "    ((row['games'] * (82/72)) >= 41 or (row['mins'] * (82/72)) >= 2000)):\n",
    "        drafts_2010.at[index, 'Starter'] = 1.0\n",
    "    elif ((row['season'] != 2011 and row['season'] != 2019 and row['season'] != 2020) and \n",
    "    (row['games'] >= 41 or row['mins'] >= 2000)):\n",
    "        drafts_2010.at[index, 'Starter'] = 1.0\n",
    "        \n",
    "    if (row['season'] == 2011) and ((row['mins'] * (82/66)) >= 1000):\n",
    "        drafts_2010.at[index, 'Rotation'] = 1.0\n",
    "    elif ((row['season'] == 2019 or row['season'] == 2020) and \n",
    "    ((row['mins'] * (82/72)) >= 1000)):\n",
    "        drafts_2010.at[index, 'Rotation'] = 1.0\n",
    "    elif ((row['season'] != 2011 and row['season'] != 2019 and row['season'] != 2020) and \n",
    "    (row['mins'] >= 1000)):\n",
    "        drafts_2010.at[index, 'Rotation'] = 1.0\n",
    "\n",
    "    if row['mins'] >= 1:\n",
    "        drafts_2010.at[index, 'Roster'] = 1.0\n",
    "        \n",
    "counts_df = drafts_2010[['player','season','Elite','All-Star','Starter','Rotation','Roster']].groupby(['player','season']).sum().sort_values(['player','season']).clip(0, 1)\n",
    "counts_df['Out of the League'] = 0.0\n",
    "counts_df = counts_df.reset_index()\n",
    "\n",
    "# Create an empty list to store DataFrames\n",
    "dfs_to_concat = []\n",
    "\n",
    "# Create a list of unique players\n",
    "unique_players = counts_df['player'].unique()\n",
    "\n",
    "# Iterate over unique players\n",
    "for player in unique_players:\n",
    "    player_data_copy = counts_df[counts_df['player'] == player]\n",
    "    \n",
    "    # Iterate over seasons for each player\n",
    "    for i in range(player_data_copy.shape[0] - 1):\n",
    "        current_row = player_data_copy.iloc[i]\n",
    "        next_row = player_data_copy.iloc[i + 1]\n",
    "        \n",
    "        # Check if there's a gap between seasons\n",
    "        if next_row['season'] - current_row['season'] > 1:\n",
    "            # Insert rows for the missing seasons\n",
    "            for season in range(current_row['season'] + 1, next_row['season']):\n",
    "                new_row = {\n",
    "                    'player': player,\n",
    "                    'season': season,\n",
    "                    'Elite': 0.0,\n",
    "                    'All-Star': 0.0,\n",
    "                    'Starter': 0.0,\n",
    "                    'Rotation': 0.0,\n",
    "                    'Roster': 0.0,\n",
    "                    'Out of the League': 1.0\n",
    "                }\n",
    "                dfs_to_concat.append(pd.DataFrame([new_row]))\n",
    "\n",
    "# Concatenate all DataFrames in the list\n",
    "if dfs_to_concat:\n",
    "    counts_df = pd.concat([counts_df] + dfs_to_concat, ignore_index=True)\n",
    "\n",
    "# Sort the DataFrame by player and season\n",
    "counts_df = counts_df.sort_values(['player', 'season']).reset_index(drop=True)\n",
    "\n",
    "#determines players highest level of success for that season\n",
    "counts_df['season outcome'] = counts_df.apply(lambda row: 'Elite' if row['Elite'] == 1\n",
    "                                              else 'All-Star' if row['All-Star'] == 1\n",
    "                                              else 'Starter' if row['Starter'] == 1\n",
    "                                              else 'Rotation' if row['Rotation'] == 1\n",
    "                                              else 'Roster' if row['Roster'] == 1\n",
    "                                              else 'Out of the League', axis=1)\n",
    "\n",
    "def determine_career_success(career_outcomes):\n",
    "    if len(career_outcomes) >= 6:  # At least 4 initial seasons + 2 additional seasons\n",
    "        after_first_four = career_outcomes[4:]\n",
    "        \n",
    "        if 'Elite' in after_first_four or 'All-Star' in after_first_four:\n",
    "            return 'Elite'\n",
    "        elif 'Starter' in after_first_four:\n",
    "            return 'Starter'\n",
    "        elif 'Rotation' in after_first_four:\n",
    "            return 'Rotation'\n",
    "    return 'Roster'\n",
    "\n",
    "# Iterate over unique players to determine career success\n",
    "for player in unique_players:\n",
    "    player_data_copy = counts_df[counts_df['player'] == player]\n",
    "    \n",
    "    # Check if the player has at least four seasons in the league\n",
    "    if player_data_copy.shape[0] >= 4:\n",
    "        # Extract the season outcomes for the player's career\n",
    "        career_outcomes = player_data_copy['season outcome'].values\n",
    "        \n",
    "        # Determine career success using the function\n",
    "        career_success = determine_career_success(career_outcomes)\n",
    "    else:\n",
    "        career_success = 'Out of the League'\n",
    "    \n",
    "    # Update the 'career_success' column in the original counts_df\n",
    "    counts_df.loc[counts_df['player'] == player, 'career_success'] = career_success\n",
    "\n",
    "# Display the updated counts_df with the 'career_success' column\n",
    "counts_df = counts_df.groupby(['player','career_success']).count().reset_index()\n",
    "counts_df['career_success'].value_counts()"
   ]
  },
  {
   "cell_type": "markdown",
   "metadata": {},
   "source": [
    "<strong><span style=\"color:red\">ANSWER 3:</span></strong>  \n",
    "\n",
    "Elite: 7 players.  \n",
    "All-Star: 0 players.  \n",
    "Starter: 21 players.  \n",
    "Rotation: 0 players.  \n",
    "Roster: 13 players.  \n",
    "Out of League: 32 players.  "
   ]
  },
  {
   "cell_type": "markdown",
   "metadata": {},
   "source": [
    "### Open Ended Modeling Question   \n",
    "\n",
    "I built a model to predict a player's career outcome based on information up through the first four years of his career.\n",
    "\n",
    "Notes and specifications for my model:\n",
    "\n",
    "1. I utilized the data provided in my data sets, ensuring not to bring in any external sources of data. It's important to note that while most of the data goes back to 2007, All-NBA and All-Rookie team voting is only included back to 2011.  \n",
    "\n",
    "2. I limited the training data to players who were drafted in or before the 2015 season. This decision was made because a player needs to complete three additional seasons after their first four to be considered as having a distinct career outcome for our dataset. Since the dataset in this project ends in 2021, this means that a player would need to have had the chance to play in the '21, '20, and '19 seasons after his first four years, and thus his first four years would have been '18, '17, '16, and '15. Karl-Anthony Towns was the #1 pick in that season. \n",
    "\n",
    "4. Once I built my model, I predicted on all players who were drafted in 2018-2021 (They have between 1 and 4 seasons of data available and have not yet started accumulating seasons that inform their career outcome).  \n",
    "\n",
    "5. I later predicted the probability that each player falls into each outcome bucket.    \n",
    "\n",
    "6. I included a short summary detailing:\n",
    "  - A brief written overview of how my model works, targeted towards a decision maker in the front office without a strong statistical background. \n",
    "  - What I view as the strengths and weaknesses of my model.  \n",
    "  - How I'd address the weaknesses if I had more time and or more data.  \n",
    "  - A matplotlib or plotly visualization highlighting some part of the modeling process, the model itself, or my results.  \n",
    "  - My predictions for Shai Gilgeous-Alexander, Zion Williamson, James Wiseman, and Josh Giddey."
   ]
  },
  {
   "cell_type": "code",
   "execution_count": 5,
   "metadata": {
    "jupyter": {
     "outputs_hidden": true
    }
   },
   "outputs": [
    {
     "data": {
      "text/html": [
       "<div>\n",
       "<style scoped>\n",
       "    .dataframe tbody tr th:only-of-type {\n",
       "        vertical-align: middle;\n",
       "    }\n",
       "\n",
       "    .dataframe tbody tr th {\n",
       "        vertical-align: top;\n",
       "    }\n",
       "\n",
       "    .dataframe thead th {\n",
       "        text-align: right;\n",
       "    }\n",
       "</style>\n",
       "<table border=\"1\" class=\"dataframe\">\n",
       "  <thead>\n",
       "    <tr style=\"text-align: right;\">\n",
       "      <th></th>\n",
       "      <th>player</th>\n",
       "      <th>career points</th>\n",
       "      <th>career minutes</th>\n",
       "      <th>career outcome</th>\n",
       "    </tr>\n",
       "  </thead>\n",
       "  <tbody>\n",
       "    <tr>\n",
       "      <th>0</th>\n",
       "      <td>Aaron Brooks</td>\n",
       "      <td>1351</td>\n",
       "      <td>2968</td>\n",
       "      <td>Out of the League</td>\n",
       "    </tr>\n",
       "    <tr>\n",
       "      <th>1</th>\n",
       "      <td>Aaron Gordon</td>\n",
       "      <td>6168</td>\n",
       "      <td>13414</td>\n",
       "      <td>Roster</td>\n",
       "    </tr>\n",
       "    <tr>\n",
       "      <th>2</th>\n",
       "      <td>Adreian Payne</td>\n",
       "      <td>84</td>\n",
       "      <td>178</td>\n",
       "      <td>Out of the League</td>\n",
       "    </tr>\n",
       "    <tr>\n",
       "      <th>3</th>\n",
       "      <td>Al Harrington</td>\n",
       "      <td>910</td>\n",
       "      <td>1761</td>\n",
       "      <td>Out of the League</td>\n",
       "    </tr>\n",
       "    <tr>\n",
       "      <th>4</th>\n",
       "      <td>Al Horford</td>\n",
       "      <td>8395</td>\n",
       "      <td>18960</td>\n",
       "      <td>All-Star</td>\n",
       "    </tr>\n",
       "    <tr>\n",
       "      <th>...</th>\n",
       "      <td>...</td>\n",
       "      <td>...</td>\n",
       "      <td>...</td>\n",
       "      <td>...</td>\n",
       "    </tr>\n",
       "    <tr>\n",
       "      <th>504</th>\n",
       "      <td>Wilson Chandler</td>\n",
       "      <td>2365</td>\n",
       "      <td>6454</td>\n",
       "      <td>Roster</td>\n",
       "    </tr>\n",
       "    <tr>\n",
       "      <th>505</th>\n",
       "      <td>Xavier Munford</td>\n",
       "      <td>3</td>\n",
       "      <td>21</td>\n",
       "      <td>Out of the League</td>\n",
       "    </tr>\n",
       "    <tr>\n",
       "      <th>506</th>\n",
       "      <td>Zach LaVine</td>\n",
       "      <td>9466</td>\n",
       "      <td>15219</td>\n",
       "      <td>All-Star</td>\n",
       "    </tr>\n",
       "    <tr>\n",
       "      <th>507</th>\n",
       "      <td>Zach Randolph</td>\n",
       "      <td>5893</td>\n",
       "      <td>11645</td>\n",
       "      <td>Starter</td>\n",
       "    </tr>\n",
       "    <tr>\n",
       "      <th>508</th>\n",
       "      <td>Zaza Pachulia</td>\n",
       "      <td>1716</td>\n",
       "      <td>5122</td>\n",
       "      <td>Starter</td>\n",
       "    </tr>\n",
       "  </tbody>\n",
       "</table>\n",
       "<p>509 rows × 4 columns</p>\n",
       "</div>"
      ],
      "text/plain": [
       "              player  career points  career minutes     career outcome\n",
       "0       Aaron Brooks           1351            2968  Out of the League\n",
       "1       Aaron Gordon           6168           13414             Roster\n",
       "2      Adreian Payne             84             178  Out of the League\n",
       "3      Al Harrington            910            1761  Out of the League\n",
       "4         Al Horford           8395           18960           All-Star\n",
       "..               ...            ...             ...                ...\n",
       "504  Wilson Chandler           2365            6454             Roster\n",
       "505   Xavier Munford              3              21  Out of the League\n",
       "506      Zach LaVine           9466           15219           All-Star\n",
       "507    Zach Randolph           5893           11645            Starter\n",
       "508    Zaza Pachulia           1716            5122            Starter\n",
       "\n",
       "[509 rows x 4 columns]"
      ]
     },
     "execution_count": 5,
     "metadata": {},
     "output_type": "execute_result"
    }
   ],
   "source": [
    "# makes a copy of player_data df\n",
    "player_data_copy = player_data.copy()\n",
    "\n",
    "filtered_data = player_data.loc[(player_data['draftyear'] <= 2015) & (player_data['season'] >= 2011)]\n",
    "filtered_data = filtered_data.merge(awards)\n",
    "\n",
    "for index, row in filtered_data.iterrows():\n",
    "    if (row['All NBA Defensive First Team'] == 1) or \\\n",
    "       (row['All NBA Defensive Second Team'] == 1) or \\\n",
    "       (row['All NBA First Team'] == 1) or \\\n",
    "       (row['All NBA Second Team'] == 1) or \\\n",
    "       (row['All NBA Third Team'] == 1) or \\\n",
    "       (row['Most Valuable Player_rk'] == 1) or \\\n",
    "       (row['Defensive Player Of The Year_rk'] == 1):\n",
    "        filtered_data.at[index, 'Elite'] = 1.0\n",
    "    if (row['all_star_game'] == 1):\n",
    "        filtered_data.at[index, 'All-Star'] = 1.0\n",
    "        \n",
    "    if (row['season'] == 2011) and ((row['games'] * (82/66)) >= 41 or (row['mins'] * (82/66)) >= 2000):\n",
    "        filtered_data.at[index, 'Starter'] = 1.0\n",
    "    elif ((row['season'] == 2019 or row['season'] == 2020) and \n",
    "    ((row['games'] * (82/72)) >= 41 or (row['mins'] * (82/72)) >= 2000)):\n",
    "        filtered_data.at[index, 'Starter'] = 1.0\n",
    "    elif ((row['season'] != 2011 and row['season'] != 2019 and row['season'] != 2020) and \n",
    "    (row['games'] >= 41 or row['mins'] >= 2000)):\n",
    "        filtered_data.at[index, 'Starter'] = 1.0\n",
    "        \n",
    "    if (row['season'] == 2011) and ((row['mins'] * (82/66)) >= 1000):\n",
    "        filtered_data.at[index, 'Rotation'] = 1.0\n",
    "    elif ((row['season'] == 2019 or row['season'] == 2020) and \n",
    "    ((row['mins'] * (82/72)) >= 1000)):\n",
    "        filtered_data.at[index, 'Rotation'] = 1.0\n",
    "    elif ((row['season'] != 2011 and row['season'] != 2019 and row['season'] != 2020) and \n",
    "    (row['mins'] >= 1000)):\n",
    "        filtered_data.at[index, 'Rotation'] = 1.0\n",
    "\n",
    "    if row['mins'] >= 1:\n",
    "        filtered_data.at[index, 'Roster'] = 1.0\n",
    "\n",
    "#determines players highest level of success for that season\n",
    "filtered_data['season outcome'] = filtered_data.apply(lambda row: 'Elite' if row['Elite'] == 1\n",
    "                                              else 'All-Star' if row['All-Star'] == 1\n",
    "                                              else 'Starter' if row['Starter'] == 1\n",
    "                                              else 'Rotation' if row['Rotation'] == 1\n",
    "                                              else 'Roster' if row['Roster'] == 1\n",
    "                                              else 'Out of the League', axis=1)\n",
    "\n",
    "player_data_copy = filtered_data.copy()\n",
    "career_outcomes = {}\n",
    "\n",
    "# Iterate through each player's data\n",
    "for player_name, player_group in player_data_copy.groupby('player'):\n",
    "    # Sort the player's data by season\n",
    "    player_group = player_group.sort_values(by='season')\n",
    "    \n",
    "    # Check if the player has at least four seasons of data\n",
    "    if len(player_group) >= 4:\n",
    "        # Check the highest level of success for the first four seasons\n",
    "        first_four_seasons = player_group.head(4)['season outcome'].tolist()\n",
    "        \n",
    "        # Check the subsequent seasons (after the first four)\n",
    "        subsequent_seasons = player_group.tail(len(player_group) - 4)['season outcome'].tolist()\n",
    "        \n",
    "        # Combine the two lists and find the unique highest outcomes\n",
    "        combined_outcomes = first_four_seasons + subsequent_seasons\n",
    "        unique_outcomes = set(combined_outcomes)\n",
    "        \n",
    "        # Determine the career outcome as the highest level achieved for at least two seasons\n",
    "        for outcome in unique_outcomes:\n",
    "            if combined_outcomes.count(outcome) >= 2:\n",
    "                career_outcome = outcome\n",
    "                break\n",
    "        else:\n",
    "            career_outcome = \"Out of the League\"\n",
    "    else:\n",
    "        career_outcome = \"Out of the League\"\n",
    "    \n",
    "    # Store the career outcome for this player\n",
    "    career_outcomes[player_name] = career_outcome\n",
    "\n",
    "# Create a DataFrame to store career outcomes\n",
    "career_outcomes_df = pd.DataFrame(list(career_outcomes.items()), columns=['player', 'career outcome'])\n",
    "\n",
    "# Merge the career outcomes DataFrame with the original data\n",
    "filtered_data_with_career = filtered_data.merge(career_outcomes_df, on='player')\n",
    "\n",
    "# Display the DataFrame with career outcomes\n",
    "career_outcomes = filtered_data_with_career[['player','season','points','mins','career outcome']].sort_values(['player','season'])\n",
    "career_outcomes\n",
    "\n",
    "# Create dictionaries to store career points and career minutes for each player\n",
    "career_points = {}\n",
    "career_minutes = {}\n",
    "\n",
    "# Iterate through each player's data\n",
    "for player_name, player_group in filtered_data_with_career.groupby('player'):\n",
    "    # Calculate the career points by summing points scored in each season\n",
    "    career_points[player_name] = player_group['points'].sum()\n",
    "    \n",
    "    # Calculate the career minutes by summing minutes played in each season\n",
    "    career_minutes[player_name] = player_group['mins'].sum()\n",
    "\n",
    "# Create DataFrames to store career points and career minutes\n",
    "career_points_df = pd.DataFrame(list(career_points.items()), columns=['player', 'career points'])\n",
    "career_minutes_df = pd.DataFrame(list(career_minutes.items()), columns=['player', 'career minutes'])\n",
    "\n",
    "# Merge the career points and career minutes DataFrames with the original data\n",
    "filtered_data_with_career_stats = filtered_data_with_career.merge(career_points_df, on='player')\n",
    "filtered_data_with_career_stats = filtered_data_with_career_stats.merge(career_minutes_df, on='player')\n",
    "\n",
    "# Display the DataFrame with career points and career minutes\n",
    "career_stats_df = filtered_data_with_career_stats[['player', 'career points', 'career minutes','career outcome']]\n",
    "career_stats_df = career_stats_df.groupby(['player', 'career points', 'career minutes','career outcome']).count().reset_index()\n",
    "career_stats_df"
   ]
  },
  {
   "cell_type": "code",
   "execution_count": 6,
   "metadata": {},
   "outputs": [
    {
     "name": "stdout",
     "output_type": "stream",
     "text": [
      "Accuracy of the logistic regression model: 65.69%\n"
     ]
    }
   ],
   "source": [
    "from sklearn.model_selection import train_test_split\n",
    "from sklearn.linear_model import LogisticRegression\n",
    "from sklearn.preprocessing import LabelEncoder\n",
    "from sklearn.metrics import accuracy_score\n",
    "\n",
    "# Encode the career outcomes into numerical labels\n",
    "label_encoder = LabelEncoder()\n",
    "career_stats_df['career outcome encoded'] = label_encoder.fit_transform(career_stats_df['career outcome'])\n",
    "\n",
    "# Extract the features (career points and career minutes) and the encoded target\n",
    "X = career_stats_df[['career points', 'career minutes']]\n",
    "y = career_stats_df['career outcome encoded']\n",
    "\n",
    "# Split the data into training and testing sets\n",
    "X_train, X_test, y_train, y_test = train_test_split(X, y, test_size=0.2, random_state=42)\n",
    "\n",
    "# Create and train a logistic regression classifier\n",
    "model = LogisticRegression(max_iter=10000)\n",
    "model.fit(X_train, y_train)\n",
    "\n",
    "# Make predictions on the test set\n",
    "y_pred = model.predict(X_test)\n",
    "\n",
    "# Calculate the accuracy of the model\n",
    "accuracy = accuracy_score(y_test, y_pred)\n",
    "print(f\"Accuracy of the logistic regression model: {accuracy * 100:.2f}%\")\n",
    "\n",
    "# Function to predict career outcome for a single season\n",
    "def predict_career_outcome(career_points, career_minutes):\n",
    "    # Create a DataFrame with the input data\n",
    "    player_data = pd.DataFrame({\n",
    "        'career points': [career_points],\n",
    "        'career minutes': [career_minutes]\n",
    "    })\n",
    "\n",
    "    # Make a prediction using the trained logistic regression model\n",
    "    predicted_outcome_encoded = model.predict(player_data[['career points', 'career minutes']])\n",
    "    predicted_outcome = label_encoder.inverse_transform(predicted_outcome_encoded)\n",
    "\n",
    "    return predicted_outcome[0]"
   ]
  },
  {
   "cell_type": "markdown",
   "metadata": {},
   "source": [
    "### Modeling Reflection:"
   ]
  },
  {
   "cell_type": "markdown",
   "metadata": {},
   "source": [
    "1 - My career outcome prediction model utilizes historical basketball player data, focusing on career points and career minutes, to make data-driven predictions about a player's future career outcome. This tool employs a machine learning technique called Logistic Regression to analyze how these statistics relate to career success, quantifying outcomes into numerical labels for understanding. After  training and validation, it can provide valuable insights to inform player recruitment, contract decisions, and team strategy, ultimately aiding in more informed and strategic choices for the team's success."
   ]
  },
  {
   "cell_type": "markdown",
   "metadata": {},
   "source": [
    "2 - A strength of my model is it's simple yet effective model that uses linear regression to predict a players career outcome. Linear Regression serves as a good starting point for modeling, providing a baseline to compare against more complex models. A weakness I believe is that the model only looks at a players rookie year, so if a player is just getting adjusted to the league he may not score as much points, rendering him in a lower bracket. Also, another weakness is that the model only takes into account the relationship between minutes played and points scored, and doesnt take into account things like awards or recognitions a player might receive making them more apt of being place in a higher category."
   ]
  },
  {
   "cell_type": "markdown",
   "metadata": {},
   "source": [
    "3 - I would adress this weaknesses by not limiting the model to a players rookie season, as points scored in their first season may not be indicitive of their career success. Also, I would focus my next model on taking into consideration awards that a player receives which may increase their category."
   ]
  },
  {
   "cell_type": "code",
   "execution_count": 7,
   "metadata": {},
   "outputs": [
    {
     "data": {
      "text/plain": [
       "<Axes: xlabel='career minutes', ylabel='career points'>"
      ]
     },
     "execution_count": 7,
     "metadata": {},
     "output_type": "execute_result"
    },
    {
     "data": {
      "image/png": "[encoded data removed]",
      "text/plain": [
       "<Figure size 640x480 with 1 Axes>"
      ]
     },
     "metadata": {},
     "output_type": "display_data"
    }
   ],
   "source": [
    "reg = np.polyfit(career_stats_df['career minutes'],career_stats_df['career points'],deg=1)\n",
    "trend = np.polyval(reg,career_stats_df['career minutes'])\n",
    "sb.regplot(x='career minutes',y='career points',fit_reg=True,data=career_stats_df)"
   ]
  },
  {
   "cell_type": "code",
   "execution_count": 8,
   "metadata": {},
   "outputs": [
    {
     "name": "stdout",
     "output_type": "stream",
     "text": [
      "Shai Gilgeous-Alexander Predicted Career Outcome: Out of the League\n",
      "Zion Williamson Career Outcome: Out of the League\n",
      "James Wiseman Career Outcome: Out of the League\n",
      "Josh Giddey Career Outcome: Out of the League\n"
     ]
    }
   ],
   "source": [
    "# Predict the career outcome for the player based on the single season's statistics\n",
    "shai_points = player_data.loc[player_data['player'] == 'Shai Gilgeous-Alexander','points'].values[0]\n",
    "shai_mins = player_data.loc[player_data['player'] == 'Shai Gilgeous-Alexander','mins'].values[0]\n",
    "shai_gilgeous_alexander_predict = predict_career_outcome(shai_points, shai_mins)\n",
    "\n",
    "zion_points = player_data.loc[player_data['player'] == 'Zion Williamson','points'].values[0]\n",
    "zion_mins = player_data.loc[player_data['player'] == 'Zion Williamson','mins'].values[0]\n",
    "zion_williamson_predict = predict_career_outcome(zion_points, zion_mins)\n",
    "\n",
    "wiseman_points = player_data.loc[player_data['player'] == 'James Wiseman','points'].values[0]\n",
    "wiseman_mins = player_data.loc[player_data['player'] == 'James Wiseman','mins'].values[0]\n",
    "james_wiseman_predict = predict_career_outcome(wiseman_points, wiseman_mins)\n",
    "\n",
    "wiseman_points = player_data.loc[player_data['player'] == 'James Wiseman','points'].values[0]\n",
    "wiseman_mins = player_data.loc[player_data['player'] == 'James Wiseman','mins'].values[0]\n",
    "james_wiseman_predict = predict_career_outcome(wiseman_points, wiseman_mins)\n",
    "\n",
    "giddey_points = player_data.loc[player_data['player'] == 'Josh Giddey','points'].values[0]\n",
    "giddey_mins = player_data.loc[player_data['player'] == 'Josh Giddey','mins'].values[0]\n",
    "josh_giddey_predict = predict_career_outcome(giddey_points, giddey_mins)\n",
    "\n",
    "print('Shai Gilgeous-Alexander Predicted Career Outcome: ' + shai_gilgeous_alexander_predict)\n",
    "print('Zion Williamson Career Outcome: ' + zion_williamson_predict)\n",
    "print('James Wiseman Career Outcome: ' + james_wiseman_predict)\n",
    "print('Josh Giddey Career Outcome: ' + josh_giddey_predict)"
   ]
  },
  {
   "cell_type": "markdown",
   "metadata": {},
   "source": [
    "## Part 2 -- Predicting Team Stats  \n",
    "\n",
    " \n",
    "### Question 1   \n",
    "\n",
    "Using the `rebounding_data` dataset, I predicted a team's next game's offensive rebounding percent to be their average offensive rebounding percent in all prior games. On a single game level, offensive rebounding percent is the number of offensive rebounds divided by their number offensive rebound \"chances\" (essentially the team's missed shots). On a multi-game sample, it should be the total number of offensive rebounds divided by the total number of offensive rebound chances.    \n",
    "\n",
    "Next I calculated what OKC's predicted offensive rebound percent is for game 81 in the data. That is, I used games 1-80 to predict game 81.  "
   ]
  },
  {
   "cell_type": "code",
   "execution_count": 9,
   "metadata": {
    "jupyter": {
     "outputs_hidden": true
    }
   },
   "outputs": [
    {
     "name": "stdout",
     "output_type": "stream",
     "text": [
      "28.9\n"
     ]
    }
   ],
   "source": [
    "only_okc = rebounding_data.loc[rebounding_data['team'] == 'OKC']\n",
    "only_okc = only_okc.reset_index().drop('index',axis=1).iloc[:80]\n",
    "print(round((only_okc['offensive_rebounds'].sum() / only_okc['off_rebound_chances'].sum()) * 100,1))"
   ]
  },
  {
   "cell_type": "markdown",
   "metadata": {},
   "source": [
    "<strong><span style=\"color:red\">ANSWER 1:</span></strong>  \n",
    "\n",
    "28.9% "
   ]
  },
  {
   "cell_type": "markdown",
   "metadata": {},
   "source": [
    "### Question 2  \n",
    "\n",
    "There are a few limitations to the method I used above. For example, if a team has a great offensive rebounder who has played in most games this season but will be out due to an injury for the next game, I might reasonably predict a lower team offensive rebound percent for the next game.  \n",
    "\n",
    "I noted how I thought about changing my original model to better account for missing players."
   ]
  },
  {
   "cell_type": "markdown",
   "metadata": {},
   "source": [
    "<strong><span style=\"color:red\">ANSWER 2:</span></strong>  \n",
    "I think a better way to account for missing players would be to incorporate player-specific data into the model. By incorporating a players game performance stats into the model, I could better predict their contribution or \"weight\" that they bring to rebound percentage. Thus, if a high % rebounding player is out for a game, our new model could raise or lower the expected rebound %."
   ]
  },
  {
   "cell_type": "markdown",
   "metadata": {},
   "source": [
    "### Question 3  \n",
    "\n",
    "Here I wrote about about a few other potential weaknesses of the simple average model I made in question 1 and discussed how I would deal with each of them.\n"
   ]
  },
  {
   "cell_type": "markdown",
   "metadata": {},
   "source": [
    "<strong><span style=\"color:red\">ANSWER 3:</span></strong>  \n",
    "Weakness 1: Matchups - the model currently treats every game the same, so it does not take into account the team matchups. If the OKC were to play a team with a better win/loss record (\"better team\"), OKC's rebound % might be lower. So, without taking into consideration the matchups per game, the model might not accurately predict the next games rebound % if OKC is playing a better team.\n",
    "\n",
    "Solution 1: Incorporate the oppopent team's W-L record into the data set, and use this as a factor if OKC may perform better or worse for their rebound %.\n",
    "\n",
    "Weakness 2: Variability - the current model has the weight of each game the same regardless of previous context. Certain game circustances that may have an effect on the rebound percentage (home court advantage, current player performance) are not currently taken into consideration for this model.\n",
    "\n",
    "Solution 2: By incorporating game circumstances like home court advantage, player performance trends, etc., the new model will have a better way of prediciting the rebound % based on these factors since not every game will be weighted equally.\n",
    "\n",
    "Weakness 3: Roster - the current model doesn't take into consideration which players played in a specific game, so it can be hard to tell why a rebound % was much higher or lower than expected for that game.\n",
    "\n",
    "Solution 3: Adding the players that played in that game and their current performance can help the model because if certain players are underperforming, the model can take their data into consideration, rather than acting as if the same players with the same stats played in every game."
   ]
  }
 ],
 "metadata": {
  "kernelspec": {
   "display_name": "Python 3 (ipykernel)",
   "language": "python",
   "name": "python3"
  },
  "language_info": {
   "codemirror_mode": {
    "name": "ipython",
    "version": 3
   },
   "file_extension": ".py",
   "mimetype": "text/x-python",
   "name": "python",
   "nbconvert_exporter": "python",
   "pygments_lexer": "ipython3",
   "version": "3.11.4"
  }
 },
 "nbformat": 4,
 "nbformat_minor": 4
}
